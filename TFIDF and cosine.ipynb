{
 "cells": [
  {
   "cell_type": "code",
   "execution_count": 15,
   "metadata": {},
   "outputs": [],
   "source": [
    "import nltk\n",
    "import numpy as np\n",
    "import random\n",
    "import string \n",
    "f=open('practraincorpus.txt','r',errors = 'ignore')\n",
    "raw=f.read()\n",
    "raw=raw.lower()\n",
    "\n",
    "\n",
    "f=open('practraincorpus2.txt','r',errors = 'ignore')\n",
    "raw2=f.read()\n",
    "raw2=raw2.lower()\n"
   ]
  },
  {
   "cell_type": "code",
   "execution_count": 17,
   "metadata": {},
   "outputs": [
    {
     "name": "stdout",
     "output_type": "stream",
     "text": [
      "Fit Vectorizer to train set [[2 0 0 ... 0 0 0]\n",
      " [1 1 1 ... 1 1 1]]\n",
      "Transform Vectorizer to test set [[0 0 0 ... 0 0 0]]\n",
      ".............\n",
      "[2 0 0 ... 0 0 0]\n",
      "....\n",
      "[0 0 0 ... 0 0 0]\n",
      "Cosine: 0.355\n",
      "....\n",
      ".............\n",
      ".............\n",
      "[1 1 1 ... 1 1 1]\n",
      "....\n",
      "[0 0 0 ... 0 0 0]\n",
      "Cosine: 0.292\n",
      "....\n",
      ".............\n",
      "[[0.02235407 0.         0.         ... 0.         0.         0.        ]\n",
      " [0.00716928 0.01007618 0.01007618 ... 0.01007618 0.01007618 0.01007618]]\n",
      "Tfidf: [[0. 0. 0. ... 0. 0. 0.]]\n"
     ]
    }
   ],
   "source": [
    "from sklearn.feature_extraction.text import CountVectorizer\n",
    "from sklearn.feature_extraction.text import TfidfTransformer\n",
    "from nltk.corpus import stopwords\n",
    "import numpy as np\n",
    "import numpy.linalg as LA\n",
    "\n",
    "train_set = [raw, raw2] #Documents\n",
    "test_set = [\"where is riviera held in vit vellore\"] #Query\n",
    "stopWords = stopwords.words('english')\n",
    "\n",
    "vectorizer = CountVectorizer(stop_words = stopWords)\n",
    "#print vectorizer\n",
    "transformer = TfidfTransformer()\n",
    "#print transformer\n",
    "\n",
    "trainVectorizerArray = vectorizer.fit_transform(train_set).toarray()\n",
    "testVectorizerArray = vectorizer.transform(test_set).toarray()\n",
    "print('Fit Vectorizer to train set', trainVectorizerArray)\n",
    "print('Transform Vectorizer to test set', testVectorizerArray)\n",
    "cx = lambda a, b : round(np.inner(a, b)/(LA.norm(a)*LA.norm(b)), 3)\n",
    "\n",
    "for vector in trainVectorizerArray:\n",
    "    print('.............')\n",
    "    print(vector)\n",
    "    for testV in testVectorizerArray:\n",
    "        print('....')\n",
    "        print(testV)\n",
    "        cosine = cx(vector, testV)\n",
    "        print('Cosine: ',end='')\n",
    "        print(cosine)\n",
    "        print('....')\n",
    "    print('.............')\n",
    "\n",
    "transformer.fit(trainVectorizerArray)\n",
    "\n",
    "print(transformer.transform(trainVectorizerArray).toarray())\n",
    "\n",
    "transformer.fit(testVectorizerArray)\n",
    "\n",
    "tfidf = transformer.transform(testVectorizerArray)\n",
    "print('Tfidf: ',end='')\n",
    "print(tfidf.todense())\n"
   ]
  },
  {
   "cell_type": "code",
   "execution_count": 19,
   "metadata": {},
   "outputs": [
    {
     "name": "stdout",
     "output_type": "stream",
     "text": [
      "Fit Vectorizer to train set [[2 0 0 ... 0 0 0]\n",
      " [1 1 1 ... 1 1 1]]\n",
      "Transform Vectorizer to test set [[0 0 0 ... 0 0 0]]\n",
      ".............\n",
      "[2 0 0 ... 0 0 0]\n",
      "....\n",
      "[0 0 0 ... 0 0 0]\n",
      "0.062\n",
      "....\n",
      ".............\n",
      ".............\n",
      "[1 1 1 ... 1 1 1]\n",
      "....\n",
      "[0 0 0 ... 0 0 0]\n",
      "0.414\n",
      "....\n",
      ".............\n",
      "[[0.02235407 0.         0.         ... 0.         0.         0.        ]\n",
      " [0.00716928 0.01007618 0.01007618 ... 0.01007618 0.01007618 0.01007618]]\n",
      "[[0. 0. 0. ... 0. 0. 0.]]\n"
     ]
    }
   ],
   "source": [
    "train_set = [raw, raw2] #Documents\n",
    "test_set = [\"vellore institute of technology is a private deemed university with campuses in vellore, chennai, bhopal and amaravati\"] #Query\n",
    "stopWords = stopwords.words('english')\n",
    "\n",
    "vectorizer = CountVectorizer(stop_words = stopWords)\n",
    "#print vectorizer\n",
    "transformer = TfidfTransformer()\n",
    "#print transformer\n",
    "\n",
    "trainVectorizerArray = vectorizer.fit_transform(train_set).toarray()\n",
    "testVectorizerArray = vectorizer.transform(test_set).toarray()\n",
    "print('Fit Vectorizer to train set', trainVectorizerArray)\n",
    "print('Transform Vectorizer to test set', testVectorizerArray)\n",
    "cx = lambda a, b : round(np.inner(a, b)/(LA.norm(a)*LA.norm(b)), 3)\n",
    "\n",
    "for vector in trainVectorizerArray:\n",
    "    print('.............')\n",
    "    print(vector)\n",
    "    for testV in testVectorizerArray:\n",
    "        print('....')\n",
    "        print(testV)\n",
    "        cosine = cx(vector, testV)\n",
    "        print(cosine)\n",
    "        print('....')\n",
    "    print('.............')\n",
    "\n",
    "transformer.fit(trainVectorizerArray)\n",
    "\n",
    "print(transformer.transform(trainVectorizerArray).toarray())\n",
    "\n",
    "transformer.fit(testVectorizerArray)\n",
    "\n",
    "tfidf = transformer.transform(testVectorizerArray)\n",
    "print(tfidf.todense())\n"
   ]
  },
  {
   "cell_type": "code",
   "execution_count": 30,
   "metadata": {},
   "outputs": [
    {
     "name": "stdout",
     "output_type": "stream",
     "text": [
      "{'where': 1278, 'is': 599, 'riviera': 965, 'held': 530, 'in': 564, 'vit': 1257, 'vellore': 1237, 'festival': 452, 'from': 490, 'wikipedia': 1289, 'the': 1166, 'free': 488, 'encyclopedia': 409, 'jump': 611, 'to': 1190, 'navigationjump': 755, 'search': 1011, 'university': 1218, 'vitrivieradp': 1261, 'png': 859, 'logo': 673, 'of': 784, 'genre': 504, 'sports': 1083, 'and': 118, 'cultural': 321, 'carnival': 219, 'location': 671, 'india': 571, 'founded': 483, '2002': 26, 'attendance': 152, '30': 53, '000': 0, 'footfall': 478, '500': 60, 'colleges': 267, 'filing': 461, 'status': 1102, 'student': 1112, 'run': 974, 'non': 773, 'profit': 887, 'organization': 805, 'sponsor': 1079, 'institute': 585, 'technology': 1152, 'website': 1271, 'www': 1304, 'vitriviera': 1260, 'com': 271, 'annual': 124, 'international': 594, 'it': 604, 'an': 116, 'day': 330, 'event': 423, 'that': 1165, 'consists': 293, 'competitions': 281, 'social': 1061, 'events': 424, 'along': 108, 'with': 1294, 'concerts': 286, '2016': 35, 'edition': 391, 'witnessed': 1295, 'more': 736, 'than': 1162, 'students': 1113, 'over': 817, '650': 64, 'across': 83, 'country': 304, 'organised': 803, 'primarily': 879, 'by': 209, 'college': 266, 'has': 525, 'wide': 1286, 'variety': 1233, 'which': 1280, 'range': 919, 'dramatic': 377, 'literary': 666, 'musical': 743, 'dance': 327, 'debate': 332, 'all': 106, 'way': 1270, 'informal': 579, 'usually': 1229, 'month': 734, 'february': 449, 'every': 426, 'year': 1306, 'contents': 297, 'history': 540, 'pro': 884, 'shows': 1037, 'quiz': 906, 'fine': 464, 'arts': 140, 'music': 742, 'performing': 845, 'causes': 225, 'awards': 163, 'recognition': 928, 'media': 712, 'sponsors': 1082, 'references': 932, 'external': 435, 'links': 663, 'come': 272, 'long': 674, 'its': 607, 'humble': 557, 'beginnings': 179, 'was': 1268, 'first': 466, 'introduced': 596, 'chancellor': 233, 'dr': 375, 'viswanathan': 1256, 'success': 1118, 'spheres': 1077, 'including': 570, 'drama': 376, 'were': 1273, 'also': 109, 'part': 827, 'this': 1174, 'saw': 995, 'fair': 442, 'amount': 114, 'participants': 828, 'would': 1301, 'grow': 517, 'years': 1307, 'be': 177, 'included': 569, 'on': 791, 'list': 664, 'top': 1194, '10': 4, 'festivals': 453, 'started': 1096, 'provide': 894, 'alternative': 110, 'strenuous': 1108, 'academics': 75, 'evolved': 428, 'into': 595, 'something': 1064, 'draw': 379, 'crowds': 318, 'most': 737, 'schools': 1002, 'around': 138, 'region': 936, 'meant': 708, 'gain': 493, 'basic': 175, 'organizational': 806, 'experience': 432, 'prepare': 876, 'them': 1169, 'for': 479, 'similar': 1042, 'situations': 1051, 'real': 925, 'world': 1300, 'grew': 514, 'immense': 561, 'proportions': 891, 'having': 527, 'budget': 204, 'few': 455, 'lakhs': 641, 'crores': 316, 'instance': 584, 'had': 522, 'keep': 626, 'raising': 913, 'bar': 173, 'meet': 716, 'different': 351, 'challenges': 232, 'each': 385, 'new': 763, 'sunidhi': 1123, 'chauhan': 240, 'during': 384, 'proshows': 892, 'hosted': 546, 'several': 1023, 'well': 1272, 'known': 633, 'singers': 1047, 'djs': 366, 'groups': 516, 'perform': 842, 'these': 1171, 'show': 1035, 'nights': 768, 'are': 134, 'highly': 536, 'anticipated': 126, 'both': 200, 'internal': 593, 'as': 142, 'such': 1119, 'feature': 447, 'upcoming': 1221, 'or': 801, 'established': 419, 'performers': 844, 'acts': 85, 'often': 790, 'indian': 572, 'though': 1177, 'have': 526, 'made': 676, 'appearances': 129, 'bands': 171, 'effekt': 397, 'krew': 634, 'acrobatics': 82, 'group': 515, 'romania': 970, 'moksh': 732, 'thane': 1163, 'based': 174, 'marathi': 700, 'rock': 968, 'band': 170, '2004': 27, 'gone': 509, 'attract': 154, 'likes': 659, 'directing': 352, 'duo': 383, 'vishal': 1252, 'shekhar': 1031, 'saleem': 982, 'shankar': 1025, 'mahadevan': 680, '2009': 29, 'recently': 927, 'benny': 184, 'dayal': 331, '2015': 34, 'vasundhara': 1235, 'das': 329, 'parikrama': 826, 'dj': 365, 'lloyd': 668, 'making': 688, 'at': 150, 'iteration': 606, 'various': 1234, 'clubs': 258, 'campus': 212, 'pertain': 848, 'their': 1168, 'club': 257, 'mandates': 694, 'majorly': 686, 'fall': 443, 'category': 222, 'english': 411, 'hindi': 537, 'tamil': 1144, 'associations': 149, 'host': 545, 'following': 475, 'aforementioned': 95, 'languages': 644, 'whereas': 1279, 'common': 275, 'like': 658, 'what': 1276, 'good': 510, 'word': 1297, 'creative': 311, 'writing': 1303, 'crossword': 317, 'ad': 86, 'zap': 1313, 'jam': 608, 'dumb': 382, 'charades': 239, 'block': 197, 'tackle': 1139, 'shipwreck': 1032, 'sound': 1066, 'silence': 1040, 'spin': 1078, 'yarn': 1305, 'yes': 1308, 'no': 772, 'maybe': 707, 'potpourri': 868, 'poetry': 860, 'debates': 333, 'quizzes': 907, 'can': 215, 'general': 502, 'entertainment': 413, 'spent': 1076, '11': 8, 'inauguration': 567, 'ceremony': 229, 'tfac': 1161, 'hosts': 549, 'sketching': 1053, 'painting': 822, 'face': 436, 'tattoo': 1145, 'contests': 298, 'take': 1140, 'place': 853, 'responsible': 955, 'decoration': 337, 'artworks': 141, 'displayed': 357, 'fest': 451, 'been': 178, 'organize': 808, 'western': 1275, 'acoustic': 80, 'headbangers': 529, 'kall': 618, 'raaga': 908, 'reggae': 935, 'antakshari': 125, 'collage': 265, 'eastern': 388, 'electric': 401, 'past': 837, 'however': 554, 'they': 1172, 'solo': 1062, 'one': 792, 'mandate': 693, '12': 9, 'dramatics': 378, 'fashion': 444, 'stage': 1092, 'according': 78, 'adaptune': 87, 'not': 776, 'organized': 809, 'particular': 832, 'premium': 875, 'fun': 492, 'purely': 902, 'designed': 346, 'seen': 1013, 'request': 944, 'stalls': 1093, 'arm': 137, 'wrestling': 1302, 'mister': 729, 'miss': 727, 'cluedo': 259, 'silichrome': 1041, 'junkyard': 614, 'genius': 503, 'soap': 1059, 'up': 1220, 'libaas': 655, 'salad': 981, 'dressing': 380, 'lakshya': 642, 'urban': 1225, 'warfare': 1267, 'monarchy': 733, 'salsa': 985, 'street': 1106, 'photography': 850, 'puppetry': 901, 'ventriloquism': 1240, 'sand': 988, 'sculptures': 1009, 'thumb': 1182, 'graffiti': 512, 'frisk': 489, 'factor': 439, 'human': 556, 'foosball': 477, 'games': 494, 'darts': 328, 'pins': 852, 'test': 1159, 'your': 1310, 'strength': 1107, 'shaving': 1029, 'balloon': 169, 'smashing': 1055, 'tt': 1204, 'ball': 168, 'hoopla': 544, 'balancing': 167, 'rod': 969, 'lays': 649, 'emphasis': 406, 'objectives': 782, 'basketball': 176, 'soccer': 1060, 'volleyball': 1264, 'clay': 256, 'court': 307, 'tennis': 1156, 'table': 1137, 'throw': 1181, 'chess': 244, 'swimming': 1133, 'snooker': 1057, 'badminton': 166, '13': 10, 'apart': 128, 'growing': 518, 'trend': 1202, 'video': 1245, 'gaming': 495, 'tournaments': 1196, 'need': 758, 'speed': 1075, 'dota': 371, 'counter': 301, 'strike': 1110, 'fifa': 458, 'age': 98, 'empires': 407, 'etc': 421, '14': 13, 'play': 857, 'against': 97, 'child': 246, 'labour': 639, 'female': 450, 'foeticide': 474, 'trafficking': 1199, 'while': 1281, 'being': 182, 'used': 1227, 'platform': 855, 'highlight': 535, 'issues': 603, 'plague': 854, 'currently': 323, 'through': 1180, 'numerous': 781, 'own': 819, 'labor': 638, 'infanticide': 578, '15': 15, 'chapter': 237, 'bangalore': 172, 'ngo': 767, 'juvenile': 615, 'care': 216, 'present': 877, 'marches': 703, 'participation': 831, '200': 25, 'œsave': 1321, 'childâ': 247, '2013': 32, 'premier': 874, 'vitmun': 1259, 'model': 731, 'united': 1215, 'nations': 753, 'conference': 291, 'helped': 532, 'partnered': 834, 'un': 1211, 'organizations': 807, 'teaming': 1148, 'women': 1296, 'he': 528, 'she': 1030, 'campaign': 211, '16': 16, '2011': 30, 'certified': 231, 'standardization': 1094, 'iso': 601, 'management': 691, 'passed': 836, 'requirements': 945, '9001': 68, '2008': 28, 'certificate': 230, 'quality': 905, 'systems': 1136, '17': 17, 'since': 1045, 'awarded': 162, 'managerial': 692, 'efficiency': 398, 'shown': 1036, 'when': 1277, 'conducting': 290, 'earned': 386, 'guinness': 520, 'book': 199, 'records': 930, 'feat': 446, 'number': 780, 'people': 839, 'faculty': 441, 'participated': 830, 'bid': 192, 'make': 687, 'record': 929, 'total': 1195, '668': 65, 'counted': 300, '18': 18, 'chapters': 238, 'sponsored': 1080, 'mostly': 738, 'smaller': 1054, 'businesses': 207, 'whole': 1284, 'prominently': 890, 'airtel': 103, 'pepsico': 840, 'wipro': 1293, 'sponsoring': 1081, 'major': 685, 'finances': 463, 'recent': 926, 'local': 669, 'use': 1226, 'opportunity': 799, 'publicity': 897, 'other': 812, 'companies': 279, 'co': 260, 'ibm': 558, 'lenovo': 652, 'cognizant': 262, 'mgm': 722, 'dizzee': 364, 'cisco': 251, 'organisers': 804, 'platforms': 856, 'twitter': 1207, 'facebook': 437, 'publicise': 896, 'share': 1027, 'related': 939, 'information': 580, 'creates': 310, 'page': 820, 'utilized': 1231, 'services': 1021, 'radio': 909, 'station': 1101, 'mirchi': 725, 'daily': 325, 'newspaper': 765, 'deccan': 334, 'chronicle': 250, 'hindu': 538, 'gears': 499, '2014': 33, 'careerindia': 218, 'retrieved': 958, 'december': 335, 'http': 555, 'ac': 73, 'sastra': 992, 'edu': 393, 'reporter': 943, 'staff': 1091, 'off': 785, 'today': 1191, 'thehindu': 1167, 'twenty19': 1206, 'onspon': 795, 'events_data': 425, 'id': 559, '1372': 12, 'eid': 400, 'menutype': 719, 'editor': 392, 'best': 185, 'fests': 454, 'you': 1309, 'should': 1034, 'attend': 151, 'letsintern': 654, 'exciting': 431, 'participate': 829, 'even': 422, 'semesters': 1017, 'sanchana': 987, 'krishnan': 636, 'campusdiaries': 213, 'sridhar': 1087, 'asha': 143, 'marathon': 701, 'set': 1022, 'mood': 735, 'curtains': 324, 'down': 372, 'correspondent': 299, 'special': 1073, 'burst': 205, 'colours': 270, 'ashok': 144, 'sowmiya': 1069, 'reverberates': 960, 'song': 1065, 'inaugurated': 566, 'cricketer': 314, 'ashwin': 145, 'newstodaynet': 766, 'sundar': 1121, 'poorvaja': 863, 'fitting': 469, 'finale': 462, 'sustains': 1130, 'rhythmic': 961, 'rapture': 924, 'focus': 472, 'gets': 505, 'guinnessworldrecords': 521, 'categories': 221, 'culfestscultural': 320, 'indiavelloreengineering': 573, 'nadu': 745, 'navigation': 754, 'menu': 718, 'logged': 672, 'intalkcontributionscreate': 590, 'accountlog': 79, 'inarticletalkreadeditview': 565, 'historysearch': 541, 'main': 682, 'featured': 448, 'content': 296, 'current': 322, 'random': 917, 'article': 139, 'donate': 370, 'store': 1105, 'interaction': 592, 'help': 531, 'about': 72, 'community': 278, 'portal': 865, 'changes': 236, 'contact': 295, 'tools': 1193, 'here': 533, 'upload': 1223, 'file': 459, 'pages': 821, 'permanent': 847, 'link': 662, 'wikidata': 1287, 'item': 605, 'cite': 253, 'print': 880, 'export': 433, 'create': 309, 'download': 373, 'pdf': 838, 'printable': 881, 'version': 1241, 'add': 88, 'last': 645, 'edited': 390, '21': 39, 'july': 610, '2019': 38, '51': 61, 'utc': 1230, 'text': 1160, 'available': 159, 'under': 1213, 'commons': 276, 'attribution': 155, 'sharealike': 1028, 'license': 656, 'additional': 90, 'terms': 1158, 'may': 706, 'apply': 131, 'using': 1228, 'site': 1049, 'agree': 99, 'privacy': 882, 'policy': 861, 'wikipediaâ': 1292, 'registered': 938, 'trademark': 1198, 'wikimedia': 1288, 'foundation': 482, 'inc': 568, 'policyabout': 862, 'wikipediadisclaimerscontact': 1291, 'wikipediadeveloperscookie': 1290, 'statementmobile': 1100, 'viewwikimedia': 1247, 'powered': 869, 'mediawiki': 713, 'seal': 1010, '2017': 36, 'svg': 1132, 'former': 480, 'names': 750, 'engineering': 410, 'type': 1209, 'private': 883, 'deemed': 338, 'eminence': 405, 'founder': 484, 'vice': 1244, 'anand': 117, 'samuel': 986, '25000': 45, 'rural': 975, 'spread': 1084, '372': 57, 'acres': 81, 'km2': 631, 'colors': 269, 'blue': 198, 'white': 1282, 'affiliations': 94, 'ugc': 1210, 'located': 670, 'outskirts': 816, '1984': 22, 'institution': 587, 'offers': 787, '20': 24, 'undergraduate': 1214, '34': 55, 'postgraduate': 867, 'four': 485, 'integrated': 591, 'research': 946, 'programs': 888, 'campuses': 214, 'chennai': 242, 'bhopal': 191, 'amaravati': 111, 'admissions': 91, 'partner': 833, 'malaysia': 689, 'gender': 500, 'discrimination': 355, 'rankings': 922, 'admits': 92, 'entrance': 414, 'exam': 429, 'called': 210, 'examination': 430, 'viteee': 1258, 'conducted': 289, 'april': 132, 'online': 793, '2018': 37, '212': 40, 'academic': 74, 'applied': 130, 'sciences': 1005, 'ms': 740, 'courses': 305, 'doctoral': 368, 'consolidated': 294, 'disciplines': 353, 'study': 1115, 'addition': 89, 'law': 647, 'school': 1001, 'centers': 226, 'encourage': 408, 'collaboration': 264, 'between': 186, 'coursework': 306, 'areas': 135, 'projects': 889, 'organizes': 811, 'industrial': 576, 'workshops': 1299, 'automotive': 157, 'paramek': 823, 'technologies': 1151, 'gravitas': 513, 'among': 113, 'implement': 562, 'fully': 491, 'flexible': 471, 'credit': 312, 'system': 1135, 'ffcs': 456, 'gives': 508, 'flexibility': 470, 'time': 1184, 'tables': 1138, 'choosing': 249, 'subjects': 1116, 'faculties': 440, 'whose': 1285, 'guidance': 519, 'want': 1266, 'teaching': 1147, 'structured': 1111, 'listed': 665, 'below': 183, 'field': 457, 'advanced': 93, 'sas': 991, 'architecture': 133, 'sparc': 1070, 'design': 345, 'sign': 1039, 'bio': 195, 'sbst': 997, 'chemical': 241, 'scheme': 1000, 'civil': 255, 'sce': 999, 'computing': 285, 'scope': 1007, 'computer': 284, 'scse': 1008, 'electrical': 402, 'select': 1015, 'electronics': 404, 'sense': 1018, 'mechanical': 711, 'smec': 1056, 'ssl': 1089, 'department': 344, 'physical': 851, 'education': 394, 'dpe': 374, 'business': 206, 'bs': 202, 'only': 794, 'bsc': 203, 'catering': 224, 'hotel': 550, 'there': 1170, 'two': 1208, 'semester': 1016, 'technical': 1150, 'august': 156, 'september': 1020, 'counterpart': 302, 'technovit': 1154, 'meanwhile': 709, 'spring': 1085, 'reserved': 948, 'vibrance': 1243, 'mainly': 683, 'organizers': 810, 'pulled': 900, '300': 54, 'universities': 1217, 'rivera': 964, 'popular': 864, 'ehsaan': 399, 'loy': 675, 'sukhwinder': 1120, 'singh': 1048, 'chiyaan': 248, 'vikram': 1248, 'siddarth': 1038, 'singer': 1046, 'kartik': 623, 'many': 699, 'delhi': 343, 'workshop': 1298, 'attended': 153, '450': 58, 'andhra': 119, 'pradesh': 871, 'madhya': 677, 'now': 779, 'autonomous': 158, 'ap': 127, 'respectively': 953, 'land': 643, 'divided': 363, 'chennaiâ': 243, 'railway': 911, 'line': 661, 'portion': 866, 'hostels': 548, 'south': 1067, 'tracks': 1197, 'northern': 775, 'houses': 552, 'men': 717, 'outdoor': 814, 'stadium': 1090, 'parts': 835, 'connected': 292, 'three': 1179, 'subways': 1117, 'resembles': 947, 'city': 254, 'lake': 640, 'gardens': 498, 'lawns': 648, 'residential': 949, 'complexes': 283, 'food': 476, 'courts': 308, 'hair': 523, 'salons': 984, 'roads': 967, 'water': 1269, 'supply': 1124, 'backup': 165, 'electricity': 403, 'shopping': 1033, 'cater': 223, 'needs': 760, 'residents': 950, 'citation': 252, 'needed': 759, 'southern': 1068, 'state': 1098, '130': 11, 'km': 630, 'west': 1274, '180': 19, 'east': 387, 'nearest': 756, 'airport': 102, 'half': 524, 'hours': 551, 'drive': 381, 'katpadi': 625, 'junction': 612, 'out': 813, '185': 20, 'situated': 1050, 'vandalur': 1232, 'kelambakkam': 627, 'road': 966, 'universiti': 1216, 'tunku': 1205, 'abdul': 70, 'rahman': 910, 'unbalanced': 1212, 'scales': 998, 'neutrality': 761, 'disputed': 358, 'relevant': 940, 'discussion': 356, 'found': 481, 'talk': 1143, 'please': 858, 'do': 367, 'remove': 941, 'message': 720, 'until': 1219, 'conditions': 287, 'so': 1058, 'met': 721, 'october': 783, 'learn': 650, 'how': 553, 'template': 1155, 'issue': 602, 'raised': 912, 'some': 1063, 'complained': 282, 'much': 741, 'restrictive': 956, 'hostel': 547, 'rules': 973, 'compared': 280, 'male': 690, 'counterparts': 303, 'regard': 934, 'evidence': 427, 'officials': 789, 'maintain': 684, 'stricter': 1109, 'necessary': 757, 'safety': 977, 'precaution': 872, 'given': 507, 'rise': 963, 'crimes': 315, 'stated': 1099, 'must': 744, 'treated': 1201, 'equally': 416, 'times': 1185, 'faced': 438, 'irate': 598, 'parents': 824, 'who': 1283, 'insisted': 583, 'codes': 261, 'conduct': 288, 'measured': 710, 'steps': 1103, 'taken': 1141, 'ensure': 412, 'genders': 501, 'thus': 1183, 'allowing': 107, 'equal': 415, 'opportunities': 798, 'access': 77, 'resources': 952, 'suspended': 1128, 'after': 96, 'opinion': 797, 'survey': 1127, 'focusing': 473, 'inequality': 577, 'professor': 886, 'visiting': 1254, 'mit': 730, 'supported': 1125, 'filed': 460, 'public': 895, 'petition': 849, 'defence': 340, 'simultaneously': 1044, 'fired': 465, 'less': 653, 'living': 667, 'took': 1192, 'knowing': 632, 'identity': 560, 'revealed': 959, 'those': 1176, 'did': 350, 'roughly': 972, '84': 67, 'respondents': 954, 'indicated': 575, 'dissuaded': 360, 'speaking': 1072, 'publicly': 898, 'vitâ': 1262, 'decisions': 336, 'fear': 445, 'expulsion': 434, 'suspension': 1129, 'devastation': 347, 'commenting': 274, 'president': 878, 'sekar': 1014, 'said': 980, 'œthe': 1322, 'misplaced': 726, 'notion': 777, 'discriminates': 354, 'true': 1203, 'home': 543, 'parentsâ': 825, '19': 21, 'qs': 903, 'asia': 146, '271': 49, '280': 51, '251': 46, 'nirf': 770, 'overall': 818, '22': 41, '24': 43, '23': 42, '25': 44, 'outlook': 815, '26': 47, '27': 48, '29': 52, '28': 50, '54': 62, 'ranked': 920, '801': 66, '1000': 6, 'higher': 534, 'national': 752, 'institutional': 588, 'ranking': 921, 'framework': 486, 'institutions': 589, 'ariia': 136, '5th': 63, '9th': 69, '100': 5, 'govt': 511, 'announces': 123, 'institutes': 586, 'takes': 1142, 'holders': 542, 'career': 217, 'aspects': 148, 'collegesearch': 268, 'opts': 800, 'tech': 1149, '2012': 31, 'begins': 180, 'launched': 646, 'degrees': 342, 'offered': 786, 'zafar': 1312, 'shahila': 1024, 'manjurekar': 696, 'kumar': 637, 'prem': 873, 'khan': 628, 'zaved': 1314, 'ahmed': 101, 'january': 609, 'effects': 396, 'learning': 651, 'performance': 843, 'procedia': 885, 'behavioral': 181, '143': 14, '4â': 59, 'doi': 369, '1016': 7, 'sbspro': 996, '07': 2, '347': 56, 'life': 657, 'infrastructure': 581, 'indiaâ': 574, 'speak': 1071, 'deep': 339, 'rootedâ': 971, 'œrapes': 1320, 'œwhen': 1325, 'comes': 273, 'safetyâ': 978, 'june': 613, 'œtwo': 1323, 'sent': 1019, 'dissentâ': 359, 'œkept': 1318, 'away': 164, 'commotionâ': 277, 'œpetitioning': 1319, 'give': 506, 'rights': 962, 'stop': 1104, 'suppressing': 1126, 'speechâ': 1074, 'change': 235, 'org': 802, 'sankar': 989, 'nanditha': 751, 'update': 1222, 'refuses': 933, 'act': 84, 'thousands': 1178, 'register': 937, 'protest': 893, 'youth': 1311, 'ki': 629, 'awaaz': 161, 'œvit': 1324, 'case': 220, 'blatant': 196, 'schoolâ': 1003, 'november': 778, 'results': 957, 'bp': 201, 'removed': 942, 'starting': 1097, 'biharprabha': 194, 'news': 764, 'bihar': 193, 'asian': 147, 'quacquarelli': 904, 'symonds': 1134, 'limited': 660, 'march': 702, 'ministry': 724, 'resource': 951, 'development': 348, 'fits': 468, 'start': 1095, 'ups': 1224, 'error': 418, 'named': 749, 'reference': 931, 'rankings_the_w_2018': 923, 'invoked': 597, 'but': 208, 'never': 762, 'defined': 341, 'see': 1012, 'mhrd': 723, 'nirfindia': 771, 'official': 788, 'vte': 1265, 'educational': 395, 'districts': 362, 'coimbatore': 263, 'cuddalore': 319, 'dharmapuri': 349, 'erode': 417, 'kanyakumari': 621, 'krishnagiri': 635, 'madurai': 679, 'namakkal': 748, 'nilgiris': 769, 'perambalur': 841, 'pudukkottai': 899, 'salem': 983, 'sivagangai': 1052, 'thanjavur': 1164, 'thoothukudi': 1175, 'tiruchirapalli': 1186, 'tirunelveli': 1188, 'tiruvarur': 1189, 'viluppuram': 1249, 'virudhunagar': 1251, 'importance': 563, 'academy': 76, 'scientific': 1006, 'innovative': 582, 'dakshina': 326, 'bharat': 187, 'prachar': 870, 'sabha': 976, 'tiruchirappalli': 1187, 'manufacturing': 698, 'kancheepuram': 620, 'madras': 678, 'kalakshetra': 616, 'rajiv': 914, 'gandhi': 496, 'central': 227, 'maritime': 704, 'alagappa': 105, 'anna': 121, 'annamalai': 122, 'bharathiar': 189, 'bharathidasan': 190, 'kamaraj': 619, 'manonmaniam': 697, 'sundaranar': 1122, 'mother': 739, 'teresa': 1157, 'periyar': 846, 'agricultural': 100, 'medical': 714, 'ambedkar': 112, 'fisheries': 467, 'open': 796, 'teachers': 1146, 'veterinary': 1242, 'animal': 120, 'thiruvalluvar': 1173, 'training': 1200, 'amrita': 115, 'vishwa': 1253, 'vidyapeetham': 1246, 'avinashilingam': 160, 'bharath': 188, 'abdur': 71, 'crescent': 313, 'science': 1004, 'mathematical': 705, 'chettinad': 245, 'gandhigram': 497, 'hindustan': 539, 'kalasalingam': 617, 'karpagam': 622, 'karunya': 624, 'meenakshi': 715, 'noorul': 774, 'islam': 600, 'centre': 228, 'maniammai': 695, 'ramakrishna': 916, 'mission': 728, 'vivekananda': 1263, 'sathyabama': 993, 'saveetha': 994, 'shanmugha': 1026, 'sri': 1086, 'chandrasekharendra': 234, 'saraswathi': 990, 'viswa': 1255, 'mahavidyalaya': 681, 'ramachandra': 915, 'srm': 1088, 'vel': 1236, 'rangarajan': 918, 'sagunthala': 979, 'vels': 1239, 'studies': 1114, 'vinayaka': 1250, 'technologyengineering': 1153, 'nadudeemed': 746, 'naduuniversities': 747, 'districteducation': 361, 'velloreeducational': 1238, '19841984': 23, 'establishments': 420, 'franã': 487, 'ais': 104, 'ªà': 1315, '¾à': 1317, '²à': 1316, 'simple': 1043, 'svenska': 1131, 'edit': 389, '09': 3, '02': 1}\n",
      "[[0.]]\n",
      "[[145.69488666]]\n",
      "[[190.89263998]]\n"
     ]
    }
   ],
   "source": [
    "from sklearn.feature_extraction.text import CountVectorizer\n",
    "from sklearn.metrics.pairwise import euclidean_distances\n",
    "\n",
    "corpus = [\n",
    "'where is riviera held in vit vellore',raw,raw2]\n",
    "\n",
    "vectorizer = CountVectorizer()\n",
    "features = vectorizer.fit_transform(corpus).todense() \n",
    "print( vectorizer.vocabulary_ )\n",
    "\n",
    "for f in features:\n",
    "    print( euclidean_distances(features[0], f) )"
   ]
  },
  {
   "cell_type": "code",
   "execution_count": 31,
   "metadata": {},
   "outputs": [],
   "source": [
    "#therefore query matches doc1 more"
   ]
  },
  {
   "cell_type": "code",
   "execution_count": null,
   "metadata": {},
   "outputs": [],
   "source": []
  }
 ],
 "metadata": {
  "kernelspec": {
   "display_name": "Python 3",
   "language": "python",
   "name": "python3"
  },
  "language_info": {
   "codemirror_mode": {
    "name": "ipython",
    "version": 3
   },
   "file_extension": ".py",
   "mimetype": "text/x-python",
   "name": "python",
   "nbconvert_exporter": "python",
   "pygments_lexer": "ipython3",
   "version": "3.7.3"
  }
 },
 "nbformat": 4,
 "nbformat_minor": 2
}
