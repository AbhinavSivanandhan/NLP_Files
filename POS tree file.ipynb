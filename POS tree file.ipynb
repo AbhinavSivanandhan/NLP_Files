{
 "cells": [
  {
   "cell_type": "code",
   "execution_count": 3,
   "metadata": {},
   "outputs": [
    {
     "name": "stdout",
     "output_type": "stream",
     "text": [
      "         What             \n",
      "  ________|______          \n",
      " |               is       \n",
      " |    ___________|______   \n",
      "and when      gravitas  ? \n",
      "\n",
      "        conducts        \n",
      "  _________|__________   \n",
      "Who  it   and    why  ? \n",
      "\n",
      "        want                \n",
      "  _______|________           \n",
      " |   |       pariticpate    \n",
      " |   |    ________|_______   \n",
      " |   |   |        |      can\n",
      " |   |   |        |       |  \n",
      " I   .   to      but     not\n",
      "\n"
     ]
    },
    {
     "data": {
      "text/plain": [
       "[None, None, None]"
      ]
     },
     "execution_count": 3,
     "metadata": {},
     "output_type": "execute_result"
    }
   ],
   "source": [
    "import spacy\n",
    "from nltk import Tree\n",
    "\n",
    "\n",
    "en_nlp = spacy.load('en_core_web_sm')\n",
    "\n",
    "doc = en_nlp(\"What and when is gravitas? Who conducts it and why? I want to pariticpate but can not.\")\n",
    "\n",
    "def to_nltk_tree(node):\n",
    "    if node.n_lefts + node.n_rights > 0:\n",
    "        return Tree(node.orth_, [to_nltk_tree(child) for child in node.children])\n",
    "    else:\n",
    "        return node.orth_\n",
    "\n",
    "\n",
    "[to_nltk_tree(sent.root).pretty_print() for sent in doc.sents]"
   ]
  },
  {
   "cell_type": "code",
   "execution_count": null,
   "metadata": {},
   "outputs": [],
   "source": []
  }
 ],
 "metadata": {
  "kernelspec": {
   "display_name": "Python 3",
   "language": "python",
   "name": "python3"
  }
 },
 "nbformat": 4,
 "nbformat_minor": 2
}
