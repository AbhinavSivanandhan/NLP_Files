{
 "cells": [
  {
   "cell_type": "code",
   "execution_count": 4,
   "metadata": {},
   "outputs": [],
   "source": [
    "import tweepy\n",
    "from textblob import TextBlob\n"
   ]
  },
  {
   "cell_type": "code",
   "execution_count": 7,
   "metadata": {},
   "outputs": [],
   "source": [
    "consumer_key = 'kjfMjfMGWI4X1ZpLjedXLpvSe'\n",
    "consumer_key_secret = 'usXTaDx5Uu2r0Gqf0gAb7UzUeGBqDwlASOpeke0kkAJGHo7fHA'\n",
    "access_token = '994471668-AScInzntHQ3m4R1uUiLAf3y9cSZsKCOUOpo9ACPe'\n",
    "access_token_secret = 'vA3WDxZBvH7uHd0xu6SrwYXSkXnbhVWhkyWrOY69fkwLK'"
   ]
  },
  {
   "cell_type": "code",
   "execution_count": 8,
   "metadata": {},
   "outputs": [],
   "source": [
    "auth = tweepy.OAuthHandler(consumer_key, consumer_key_secret)\n",
    "auth.set_access_token(access_token, access_token_secret)\n",
    "api = tweepy.API(auth)"
   ]
  },
  {
   "cell_type": "code",
   "execution_count": 10,
   "metadata": {},
   "outputs": [],
   "source": [
    "public_tweets = api.search(\"Dogs\")"
   ]
  },
  {
   "cell_type": "code",
   "execution_count": 11,
   "metadata": {},
   "outputs": [],
   "source": [
    "example = TextBlob(\"Python is a high-level, general-purpose programming language.\")\n",
    "#this cell is only an example. ignore in main code always"
   ]
  },
  {
   "cell_type": "code",
   "execution_count": 12,
   "metadata": {},
   "outputs": [
    {
     "data": {
      "text/plain": [
       "[Sentence(\"Python is a high-level, general-purpose programming language.\")]"
      ]
     },
     "execution_count": 12,
     "metadata": {},
     "output_type": "execute_result"
    }
   ],
   "source": [
    "example.words\n",
    "example.sentences"
   ]
  },
  {
   "cell_type": "code",
   "execution_count": 13,
   "metadata": {},
   "outputs": [
    {
     "name": "stdout",
     "output_type": "stream",
     "text": [
      "@Tblakeh18 @RichHomiLarbear Y’all are my two dogs\n",
      "Sentiment(polarity=0.0, subjectivity=0.0)\n",
      "Neutral\n",
      "RT @a_sosa18: First of all do you know how many corn dogs you can get? I’m all game https://t.co/ZJaSZaaxmM\n",
      "Sentiment(polarity=0.11666666666666665, subjectivity=0.41111111111111115)\n",
      "Positive\n",
      "@jgeltzer @CNNOpinion What if kitty cats get machine guns and chase dogs...that's about how stupid this sounds! TDS on overload!!\n",
      "Sentiment(polarity=-1.0, subjectivity=1.0)\n",
      "Negative\n",
      "RT @702Austin: Me punishing my dogs when they misbehave https://t.co/W0UxdBazd2\n",
      "Sentiment(polarity=0.0, subjectivity=0.0)\n",
      "Neutral\n",
      "RT @HopeRescue: Planning your Easter, Whitsun or Summer holidays? Why not let our experienced welfare team look after your dogs while you’r…\n",
      "Sentiment(polarity=0.8, subjectivity=0.9)\n",
      "Positive\n",
      "@jordyjord Actually a lot of breeders sell their dogs for upwards of $1000\n",
      "Sentiment(polarity=0.0, subjectivity=0.1)\n",
      "Neutral\n",
      "@hollywood512 Anybody going to just say “Dorit, you should’ve brought the dog to Vanderpump Dogs and not a shelter?… https://t.co/4MkuFPBC82\n",
      "Sentiment(polarity=0.0, subjectivity=0.0)\n",
      "Neutral\n",
      "Some damn dogs 😂😂😂 https://t.co/vUXt0GTYDk\n",
      "Sentiment(polarity=0.0, subjectivity=0.0)\n",
      "Neutral\n",
      "RT @702Austin: Me punishing my dogs when they misbehave https://t.co/W0UxdBazd2\n",
      "Sentiment(polarity=0.0, subjectivity=0.0)\n",
      "Neutral\n",
      "RT @dogswitjobs: These dogs work in courtrooms to help comfort victims when testifying against their abusers. Both are true heros https://t…\n",
      "Sentiment(polarity=0.35, subjectivity=0.65)\n",
      "Positive\n",
      "Dogs cure my depression\n",
      "Sentiment(polarity=0.0, subjectivity=0.0)\n",
      "Neutral\n",
      "RT @702Austin: Me punishing my dogs when they misbehave https://t.co/W0UxdBazd2\n",
      "Sentiment(polarity=0.0, subjectivity=0.0)\n",
      "Neutral\n",
      "estas pantufas de griffon de bruxelas são absolutamente perfeitas https://t.co/K67eExGIV7 https://t.co/iW32LA9Hte\n",
      "Sentiment(polarity=0.0, subjectivity=0.0)\n",
      "Neutral\n"
     ]
    }
   ],
   "source": [
    "for tweet in public_tweets:\n",
    "    print(tweet.text)\n",
    "    analysis = TextBlob(tweet.text)\n",
    "    print(analysis.sentiment)\n",
    "    if(analysis.sentiment[0]>0):\n",
    "        print('Positive')\n",
    "    elif analysis.sentiment[0]<0:\n",
    "        print('Negative')\n",
    "    else:\n",
    "        print('Neutral')"
   ]
  },
  {
   "cell_type": "code",
   "execution_count": null,
   "metadata": {},
   "outputs": [],
   "source": []
  }
 ],
 "metadata": {
  "kernelspec": {
   "display_name": "Python 3",
   "language": "python",
   "name": "python3"
  },
  "language_info": {
   "codemirror_mode": {
    "name": "ipython",
    "version": 3
   },
   "file_extension": ".py",
   "mimetype": "text/x-python",
   "name": "python",
   "nbconvert_exporter": "python",
   "pygments_lexer": "ipython3",
   "version": "3.7.3"
  }
 },
 "nbformat": 4,
 "nbformat_minor": 2
}
